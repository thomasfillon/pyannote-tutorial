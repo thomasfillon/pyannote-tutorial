{
 "metadata": {
  "name": "",
  "signature": "sha256:d648a2e02f911f5c941e2c22b623454ad3e02a7efe60f6390f61fa92d29d5dd4"
 },
 "nbformat": 3,
 "nbformat_minor": 0,
 "worksheets": [
  {
   "cells": [
    {
     "cell_type": "markdown",
     "metadata": {},
     "source": [
      "# PyAnnote 101\n",
      "\n",
      "[File parser and evaluation metrics](metrics.ipynb)"
     ]
    },
    {
     "cell_type": "markdown",
     "metadata": {},
     "source": [
      "# PyAnnote 201\n",
      "[Features extraction and temporal segmentation](segmentation.ipynb)"
     ]
    }
   ],
   "metadata": {}
  }
 ]
}