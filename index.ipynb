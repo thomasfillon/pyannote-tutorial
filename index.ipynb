{
 "metadata": {
  "name": "",
  "signature": "sha256:5356060c159687e260af63937581247cf190126561e1e7627d18982d16f1d87c"
 },
 "nbformat": 3,
 "nbformat_minor": 0,
 "worksheets": [
  {
   "cells": [
    {
     "cell_type": "markdown",
     "metadata": {},
     "source": [
      "# PyAnnote 101\n",
      "\n",
      "File parser and evaluation metrics"
     ]
    },
    {
     "cell_type": "markdown",
     "metadata": {},
     "source": [
      "# PyAnnote 201\n",
      "[Features extraction and temporal segmentation](segmentation.ipynb)"
     ]
    }
   ],
   "metadata": {}
  }
 ]
}