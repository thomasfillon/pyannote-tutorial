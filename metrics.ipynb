{
 "metadata": {
  "name": "",
  "signature": "sha256:37539fbcedcc7cc627c8c27389a78c116549af0db355370e87a3469fdcdf8dde"
 },
 "nbformat": 3,
 "nbformat_minor": 0,
 "worksheets": [
  {
   "cells": [
    {
     "cell_type": "markdown",
     "metadata": {},
     "source": [
      "load necessary pyannote modules"
     ]
    },
    {
     "cell_type": "code",
     "collapsed": false,
     "input": [
      "from pyannote.metric.identification import IdentificationErrorRate\n",
      "from pyannote.parser.repere import REPEREParser\n",
      "from pyannote.parser.uem import UEMParser"
     ],
     "language": "python",
     "metadata": {},
     "outputs": [],
     "prompt_number": 2
    },
    {
     "cell_type": "markdown",
     "metadata": {},
     "source": [
      "load reference, hypothesis and evaluation map using available parsers"
     ]
    },
    {
     "cell_type": "code",
     "collapsed": false,
     "input": [
      "# load reference file (in REPERE format)\n",
      "reference = REPEREParser().read('data/REPERE/reference.hyp')\n",
      "# load hypothesis file (in REPERE format)\n",
      "hypothesis = REPEREParser().read('data/REPERE/hypothesis.hyp')\n",
      "# load evaluation map (in UEM format)\n",
      "uem = UEMParser().read('data/REPERE/transcribed.uem')"
     ],
     "language": "python",
     "metadata": {},
     "outputs": [],
     "prompt_number": 5
    },
    {
     "cell_type": "markdown",
     "metadata": {},
     "source": [
      "Initialize `identification error rate` evaluation metric"
     ]
    },
    {
     "cell_type": "code",
     "collapsed": false,
     "input": [
      "identificationErrorRate = IdentificationErrorRate()"
     ],
     "language": "python",
     "metadata": {},
     "outputs": [],
     "prompt_number": 10
    },
    {
     "cell_type": "markdown",
     "metadata": {},
     "source": [
      "Evaluate hypothesis for all available resources"
     ]
    },
    {
     "cell_type": "code",
     "collapsed": false,
     "input": [
      "# for each video in reference (uri = uniform resource identifier)\n",
      "for uri in reference.uris:\n",
      "    \n",
      "    # obtain reference for this video\n",
      "    r = reference(uri=uri, modality='speaker');\n",
      "    # obtain hypothesis for this video\n",
      "    h = hypothesis(uri=uri, modality='speaker')\n",
      "    # obtain evaluation map for this video\n",
      "    u = uem(uri=uri)\n",
      "    # compute identification error rate (crop both reference and hypothesis to UEM first)\n",
      "    ier = identificationErrorRate(r.crop(u), h.crop(u))\n",
      "    # display error rate\n",
      "    print \"{uri}: {ier:.2f}% IER\".format(uri=uri, ier=100*ier)"
     ],
     "language": "python",
     "metadata": {},
     "outputs": []
    },
    {
     "cell_type": "code",
     "collapsed": false,
     "input": [
      "# display cumulated error rate \n",
      "print \"cumulated: {ier:.2f}% IER\".format(ier=100*abs(identificationErrorRate))"
     ],
     "language": "python",
     "metadata": {},
     "outputs": [
      {
       "output_type": "stream",
       "stream": "stdout",
       "text": [
        "cumulated: 25.00% IER\n"
       ]
      }
     ],
     "prompt_number": 9
    }
   ],
   "metadata": {}
  }
 ]
}