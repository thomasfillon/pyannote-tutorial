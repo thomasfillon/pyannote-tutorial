{
 "metadata": {
  "name": "",
  "signature": "sha256:f97b9849912b7dbf1546083f5c14adf2957acc9658d649778114893be4061f49"
 },
 "nbformat": 3,
 "nbformat_minor": 0,
 "worksheets": [
  {
   "cells": [
    {
     "cell_type": "heading",
     "level": 1,
     "metadata": {},
     "source": [
      "Feature extraction and temporal segmentation"
     ]
    },
    {
     "cell_type": "code",
     "collapsed": false,
     "input": [
      "from pyannote import Segment, Timeline\n",
      "from matplotlib import pyplot as plt"
     ],
     "language": "python",
     "metadata": {},
     "outputs": [
      {
       "output_type": "stream",
       "stream": "stderr",
       "text": [
        "/local/Development/virtualenv/pyannote/lib/python2.7/site-packages/pytz/__init__.py:31: UserWarning: Module multiprocessing was already imported from /usr/local/Cellar/python/2.7.5/Frameworks/Python.framework/Versions/2.7/lib/python2.7/multiprocessing/__init__.pyc, but /Volumes/Macintosh HD/Users/bredin/Development/virtualenv/pyannote/lib/python2.7/site-packages is being added to sys.path\n",
        "  from pkg_resources import resource_stream\n"
       ]
      }
     ],
     "prompt_number": 1
    },
    {
     "cell_type": "markdown",
     "metadata": {},
     "source": [
      "`uri` stands for *uniform resource identifier*."
     ]
    },
    {
     "cell_type": "code",
     "collapsed": false,
     "input": [
      "uri = 'GameOfThrones.Season01.Episode01'"
     ],
     "language": "python",
     "metadata": {},
     "outputs": [],
     "prompt_number": 2
    },
    {
     "cell_type": "markdown",
     "metadata": {},
     "source": [
      "Let's start by loading the reference (i.e. manual) segmentation into scenes.  \n",
      "It is stored in `segmentation_data/GameOfThrones.Season01.Episode01.scenes.txt`."
     ]
    },
    {
     "cell_type": "code",
     "collapsed": false,
     "input": [
      "with open('data/{uri}/scenes.txt'.format(uri=uri), 'r') as f:\n",
      "    lines = [line.split() for line in f.readlines()]\n"
     ],
     "language": "python",
     "metadata": {},
     "outputs": [],
     "prompt_number": 3
    },
    {
     "cell_type": "markdown",
     "metadata": {},
     "source": [
      "`pyannote.Timeline` objects are used to store set of `pyannote.Segment` (one per scene).  \n",
      "A `pyannote.Segment` corresponds to a time range (with a start time and an end time, in seconds)."
     ]
    },
    {
     "cell_type": "code",
     "collapsed": false,
     "input": [
      "reference = Timeline(uri=uri)\n",
      "for start_time, end_time, _ in lines:\n",
      "    segment = Segment(start=float(start_time), end=float(end_time))\n",
      "    reference.add(segment)"
     ],
     "language": "python",
     "metadata": {},
     "outputs": [],
     "prompt_number": 4
    },
    {
     "cell_type": "markdown",
     "metadata": {},
     "source": [
      "Now, we will initialize an extractor of MFCC features (including energy and 12 first coefficients)."
     ]
    },
    {
     "cell_type": "code",
     "collapsed": false,
     "input": [
      "from pyannote.feature.yaafe import YaafeMFCC\n",
      "mfcc_extractor = YaafeMFCC(e=True, coefs=12)"
     ],
     "language": "python",
     "metadata": {},
     "outputs": [],
     "prompt_number": 5
    },
    {
     "cell_type": "markdown",
     "metadata": {},
     "source": [
      "Once initialized, it can be used to extract the actual features.  \n",
      "Beware, it may take a while (a few seconds for a one hour episode)."
     ]
    },
    {
     "cell_type": "code",
     "collapsed": false,
     "input": [
      "features = mfcc_extractor.extract('data/{uri}/english.wav'.format(uri=uri))"
     ],
     "language": "python",
     "metadata": {},
     "outputs": [],
     "prompt_number": 6
    },
    {
     "cell_type": "markdown",
     "metadata": {},
     "source": [
      "`pyannote.Features` instances have several handy methods.  \n",
      "`crop` is one of them and allows to get all features for a given `pyannote.Segment` in a `numpy.array`."
     ]
    },
    {
     "cell_type": "code",
     "collapsed": false,
     "input": [
      "x = features.crop(Segment(0., 10.))\n",
      "print x.shape"
     ],
     "language": "python",
     "metadata": {},
     "outputs": [
      {
       "output_type": "stream",
       "stream": "stdout",
       "text": [
        "(625, 13)\n"
       ]
      }
     ],
     "prompt_number": 7
    },
    {
     "cell_type": "markdown",
     "metadata": {},
     "source": [
      "Let's plot audio signal energy for the first 3 minutes."
     ]
    },
    {
     "cell_type": "code",
     "collapsed": false,
     "input": [
      "plt.plot(features.crop(Segment(0., 3*60))[:,0])\n",
      "plt.ylim(7, 17);"
     ],
     "language": "python",
     "metadata": {},
     "outputs": [
      {
       "metadata": {},
       "output_type": "display_data",
       "png": "[encoded data removed]",
       "text": [
        "<matplotlib.figure.Figure at 0x112be0f50>"
       ]
      }
     ],
     "prompt_number": 8
    },
    {
     "cell_type": "markdown",
     "metadata": {},
     "source": [
      "Now, we are going to segment the episode using Gaussian divergence.  \n",
      "Two sliding windows (left and right) of 20 seconds each are used, with a step of 1 second. "
     ]
    },
    {
     "cell_type": "code",
     "collapsed": false,
     "input": [
      "from pyannote.algorithm.segmentation import SegmentationGaussianDivergence\n",
      "segmenter = SegmentationGaussianDivergence(duration=20, step=1)"
     ],
     "language": "python",
     "metadata": {},
     "outputs": [],
     "prompt_number": 9
    },
    {
     "cell_type": "markdown",
     "metadata": {},
     "source": [
      "One can use `segmenter` to compute the Gaussian divergence d between left and right windows for each position t of the sliding windows..."
     ]
    },
    {
     "cell_type": "code",
     "collapsed": false,
     "input": [
      "T, D = zip(*[(t, d) for (t, d) in segmenter.iterdiff(features)]);"
     ],
     "language": "python",
     "metadata": {},
     "outputs": [],
     "prompt_number": 10
    },
    {
     "cell_type": "markdown",
     "metadata": {},
     "source": [
      "... and consequently plot $d = f(t)$ alongside the actual position of scene boundaries."
     ]
    },
    {
     "cell_type": "code",
     "collapsed": false,
     "input": [
      "for segment in reference:\n",
      "    plt.plot([segment.start, segment.start], [0, 20], 'r')\n",
      "plt.plot(T, D)\n",
      "plt.xlim(0, 2000)\n",
      "plt.ylim(0,20);"
     ],
     "language": "python",
     "metadata": {},
     "outputs": [
      {
       "metadata": {},
       "output_type": "display_data",
       "png": "[encoded data removed]",
       "text": [
        "<matplotlib.figure.Figure at 0x113114390>"
       ]
      }
     ],
     "prompt_number": 11
    },
    {
     "cell_type": "markdown",
     "metadata": {},
     "source": [
      "It looks like setting a detection threshold $\\theta = 7$ might do (some of) the trick.  "
     ]
    },
    {
     "cell_type": "code",
     "collapsed": false,
     "input": [
      "segmenter = SegmentationGaussianDivergence(duration=20, step=1, threshold=7)\n",
      "hypothesis = segmenter.apply(features)"
     ],
     "language": "python",
     "metadata": {},
     "outputs": [],
     "prompt_number": 12
    },
    {
     "cell_type": "markdown",
     "metadata": {},
     "source": [
      "Let's evaluate the results visually (reference in green, hypothesis in red)."
     ]
    },
    {
     "cell_type": "code",
     "collapsed": false,
     "input": [
      "for segment in hypothesis:\n",
      "    plt.plot([segment.start, segment.start], [0, 1], 'r')\n",
      "for segment in reference:\n",
      "    plt.plot([segment.start, segment.start], [1, 2], 'g')"
     ],
     "language": "python",
     "metadata": {},
     "outputs": [
      {
       "metadata": {},
       "output_type": "display_data",
       "png": "[encoded data removed]",
       "text": [
        "<matplotlib.figure.Figure at 0x1131177d0>"
       ]
      }
     ],
     "prompt_number": 13
    },
    {
     "cell_type": "markdown",
     "metadata": {},
     "source": [
      "One can also use evaluation metrics :"
     ]
    },
    {
     "cell_type": "code",
     "collapsed": false,
     "input": [
      "from pyannote.metric.segmentation import SegmentationPurity, SegmentationCoverage\n",
      "from pyannote.metric import f_measure\n",
      "purity = SegmentationPurity()\n",
      "coverage = SegmentationCoverage()"
     ],
     "language": "python",
     "metadata": {},
     "outputs": [],
     "prompt_number": 14
    },
    {
     "cell_type": "code",
     "collapsed": false,
     "input": [
      "p = purity(reference, hypothesis)\n",
      "c = coverage(reference, hypothesis)\n",
      "f = f_measure(p, c)\n",
      "print \"Purity {p:.1f}% / Coverage {c:.1f}% / F-Measure {f:.1f}\".format(p=100*p,c=100*c,f=100*f)"
     ],
     "language": "python",
     "metadata": {},
     "outputs": [
      {
       "output_type": "stream",
       "stream": "stdout",
       "text": [
        "Purity 77.6% / Coverage 85.9% / F-Measure 81.5\n"
       ]
      }
     ],
     "prompt_number": 15
    }
   ],
   "metadata": {}
  }
 ]
}